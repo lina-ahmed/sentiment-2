{
  "nbformat": 4,
  "nbformat_minor": 0,
  "metadata": {
    "colab": {
      "provenance": []
    },
    "kernelspec": {
      "name": "python3",
      "display_name": "Python 3"
    },
    "language_info": {
      "name": "python"
    }
  },
  "cells": [
    {
      "cell_type": "code",
      "execution_count": null,
      "metadata": {
        "id": "F4SFANg5VQXz"
      },
      "outputs": [],
      "source": [
        "#Import the libraries\n",
        "import numpy as np\n",
        "import pandas as pd\n",
        "from sklearn.ensemble import RandomForestClassifier\n",
        "from sklearn.svm import SVC\n",
        "from sklearn.linear_model import LogisticRegression\n",
        "from sklearn.model_selection import train_test_split"
      ]
    },
    {
      "cell_type": "code",
      "source": [
        "#Create a function to get RSI values\n",
        "def RSI(data, time_period=14, column='Close', MA='SMA'):\n",
        " delta = data[column].diff(1)\n",
        " delta = delta.dropna()\n",
        " up = delta.copy()\n",
        " down = delta.copy()\n",
        " up[up < 0 ] = 0\n",
        " down[down > 0] = 0\n",
        " if MA == 'SMA':\n",
        "  AVG_Gain = up.rolling(window=time_period).mean()\n",
        "  AVG_Loss = abs(down.rolling(window=time_period).mean())\n",
        " elif MA == 'EMA':\n",
        "  AVG_Gain = up.ewm(spain=time_period, adjust=False).mean()\n",
        "  AVG_Loss = abs(down.ewm(spain=time_period, adjust=False).mean())\n",
        "\n",
        " RS = AVG_Gain / AVG_Loss\n",
        " RSI = 100.0 - (100.0/(1.0 + RS))\n",
        " data['RSI'+str(time_period)+'_'+str(MA)] = RSI"
      ],
      "metadata": {
        "id": "ESAD-IXoW-u8"
      },
      "execution_count": null,
      "outputs": []
    },
    {
      "cell_type": "code",
      "source": [
        "#Create a function to select the best model to use\n",
        "def select_best_model(x_train, y_train):\n",
        "\n",
        "  #create a list of machine learning models\n",
        "  models = [\n",
        "      RandomForestClassifier(),\n",
        "      SVC(),\n",
        "      LogisticRegression()\n",
        "  ]\n",
        "  #Evaluate each model on the training set\n",
        "  model_scores= []\n",
        "  for model in models:\n",
        "    model.fit(x_train, y_train)\n",
        "    #calculate the accuracy of the model\n",
        "    score = model.score(x_train, y_train)\n",
        "    model_scores.append((model, model_scores))\n",
        "\n",
        "  #select the model with the highest score\n",
        "  best_model = max(model_scores, key=lambda x:x[1])[0]\n",
        "\n",
        "  return best_model"
      ],
      "metadata": {
        "id": "VP_ye9jldkUc"
      },
      "execution_count": null,
      "outputs": []
    },
    {
      "cell_type": "code",
      "source": [
        "# Load the data\n",
        "df = pd.read_csv('BTC 21.csv')"
      ],
      "metadata": {
        "id": "B85aCx3IiOc2"
      },
      "execution_count": null,
      "outputs": []
    },
    {
      "cell_type": "code",
      "source": [
        "# Create a new column called Percentage Change\n",
        "df['Percentage Change'] = df['Close'].pct_change()\n",
        "\n",
        "# Create a buy and sell signal (1=Buy, -1=Sell)\n",
        "df['Signal'] = np.where(df['Percentage Change']>= 0, 1, -1)\n",
        "df.dropna(inplace= True) # Romve NaN values\n",
        "\n",
        "# Create RSI columns\n",
        "RSI(df, 6, MA=\"SMA\")\n",
        "RSI(df, 2, MA=\"SMA\")\n",
        "\n",
        "df.dropna(inplace= True)\n",
        "# Create the buy (1) and sell (-1) and hold (0) signals based on RSI values for RSI6_SMA and RSI2_SMA\n",
        "df['RSI6_signal'] = np.where(df['RSI6_SMA'] <= 10, 1, 0)\n",
        "df['RSI6_signal'] = np.where(df['RSI6_SMA'] >= 90, -1, df['RSI6_signal'])\n",
        "\n",
        "df['RSI2_signal'] = np.where(df['RSI2_SMA'] <= 10, 1, 0)\n",
        "df['RSI2_signal'] = np.where(df['RSI2_SMA'] >= 90, -1, df['RSI2_signal'])\n",
        "\n",
        "# Set the index to be the date\n",
        "df.set_index(df['Date'])\n",
        "# Drop the date column\n",
        "df.drop(\"Date\", axis=1, inplace= True)\n",
        "\n",
        "\n",
        "#Show the data\n",
        "print(df)"
      ],
      "metadata": {
        "colab": {
          "base_uri": "https://localhost:8080/"
        },
        "id": "QAL0O2N6h1Qs",
        "outputId": "6b64be52-1c27-442b-bfb5-c45225b09634"
      },
      "execution_count": null,
      "outputs": [
        {
          "output_type": "stream",
          "name": "stdout",
          "text": [
            "             Open          High           Low         Close     Adj Close  \\\n",
            "15   36821.648438  37864.367188  35633.554688  36178.140625  36178.140625   \n",
            "16   36163.648438  36722.351563  34069.320313  35791.277344  35791.277344   \n",
            "17   35792.238281  37299.285156  34883.843750  36630.074219  36630.074219   \n",
            "18   36642.234375  37755.890625  36069.804688  36069.804688  36069.804688   \n",
            "19   36050.113281  36378.328125  33570.476563  35547.750000  35547.750000   \n",
            "..            ...           ...           ...           ...           ...   \n",
            "360  50802.609375  51956.328125  50499.468750  50640.417969  50640.417969   \n",
            "361  50679.859375  50679.859375  47414.210938  47588.855469  47588.855469   \n",
            "362  47623.871094  48119.742188  46201.496094  46444.710938  46444.710938   \n",
            "363  46490.605469  47879.964844  46060.312500  47178.125000  47178.125000   \n",
            "364  47169.371094  48472.527344  45819.953125  46306.445313  46306.445313   \n",
            "\n",
            "          Volume  Percentage Change  Signal   RSI6_SMA   RSI2_SMA  \\\n",
            "15   57706187875          -0.017576      -1  41.428761   0.000000   \n",
            "16   52359854336          -0.010693      -1  51.089958   0.000000   \n",
            "17   49511702429           0.023436       1  64.249142  68.436334   \n",
            "18   57244195486          -0.015295      -1  40.650025  59.954043   \n",
            "19   66834573161          -0.014473      -1  15.775245   0.000000   \n",
            "..           ...                ...     ...        ...        ...   \n",
            "360  24324345758          -0.003328      -1  74.743923  69.185157   \n",
            "361  33430376883          -0.060259      -1  41.597157   0.000000   \n",
            "362  30049226299          -0.024042      -1   8.064862   0.000000   \n",
            "363  26686491018           0.015791       1  18.961334  39.062113   \n",
            "364  36974172400          -0.018476      -1  17.529896  45.692911   \n",
            "\n",
            "     RSI6_signal  RSI2_signal  \n",
            "15             0            1  \n",
            "16             0            1  \n",
            "17             0            0  \n",
            "18             0            0  \n",
            "19             0            1  \n",
            "..           ...          ...  \n",
            "360            0            0  \n",
            "361            0            1  \n",
            "362            1            1  \n",
            "363            0            0  \n",
            "364            0            0  \n",
            "\n",
            "[350 rows x 12 columns]\n"
          ]
        }
      ]
    },
    {
      "cell_type": "code",
      "source": [
        "#Get the features to train and test on and the target data set to predict/classify\n",
        "features = ['Volume', 'Close', 'RSI6_signal', 'RSI2_signal']\n",
        "target = 'Signal'\n",
        "x= df[features]\n",
        "y= df[target]\n",
        "\n",
        "#Split the data set (80%) traning and (20%) testing\n",
        "x_train, x_test, y_train, y_test = train_test_split(x,y, test_size= 0.2, random_state= 0)\n",
        "\n",
        "#Select the best model\n",
        "best_model = select_best_model(x_train, y_train)\n",
        "\n",
        "#Evaluate the best model on the test data and get the models predictions/classifications\n",
        "y_pred = best_model.predict(x_test)\n",
        "#calculate the score of the model\n",
        "score = best_model.score(x_test, y_test)\n",
        "\n",
        "#Print the Accuracy of the best model on the test data\n",
        "print(\"Accuracy of the best model:\", score)"
      ],
      "metadata": {
        "colab": {
          "base_uri": "https://localhost:8080/"
        },
        "id": "BsNfIaWsq4Aq",
        "outputId": "ba6749d3-85ba-47c3-8b0d-b192efa32657"
      },
      "execution_count": null,
      "outputs": [
        {
          "output_type": "stream",
          "name": "stdout",
          "text": [
            "Accuracy of the best model: 0.7571428571428571\n"
          ]
        }
      ]
    }
  ]
}