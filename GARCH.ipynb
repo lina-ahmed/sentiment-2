{
  "nbformat": 4,
  "nbformat_minor": 0,
  "metadata": {
    "colab": {
      "provenance": [],
      "collapsed_sections": []
    },
    "kernelspec": {
      "name": "python3",
      "display_name": "Python 3"
    },
    "language_info": {
      "name": "python"
    }
  },
  "cells": [
    {
      "cell_type": "code",
      "execution_count": 1,
      "metadata": {
        "id": "kxg8OhLOuenq"
      },
      "outputs": [],
      "source": [
        "#Setup\n",
        "%matplotlib inline\n",
        "import matplotlib.pyplot as plt\n",
        "import seaborn\n",
        "\n",
        "seaborn.set_style(\"darkgrid\")\n",
        "plt.rc(\"figure\", figsize=(16, 6))\n",
        "plt.rc(\"savefig\", dpi=90)\n",
        "plt.rc(\"font\", family=\"sans-serif\")\n",
        "plt.rc(\"font\", size=14)"
      ]
    },
    {
      "cell_type": "code",
      "source": [
        "pip install arch"
      ],
      "metadata": {
        "colab": {
          "base_uri": "https://localhost:8080/"
        },
        "id": "Rx4Q_Ag3w0GH",
        "outputId": "a66aa29e-beb8-4612-914e-f583b5587dd6"
      },
      "execution_count": 2,
      "outputs": [
        {
          "output_type": "stream",
          "name": "stdout",
          "text": [
            "Looking in indexes: https://pypi.org/simple, https://us-python.pkg.dev/colab-wheels/public/simple/\n",
            "Collecting arch\n",
            "  Downloading arch-5.3.1-cp37-cp37m-manylinux_2_17_x86_64.manylinux2014_x86_64.whl (903 kB)\n",
            "\u001b[K     |████████████████████████████████| 903 kB 5.1 MB/s \n",
            "\u001b[?25hRequirement already satisfied: pandas>=1.0 in /usr/local/lib/python3.7/dist-packages (from arch) (1.3.5)\n",
            "Requirement already satisfied: scipy>=1.3 in /usr/local/lib/python3.7/dist-packages (from arch) (1.7.3)\n",
            "Collecting property-cached>=1.6.4\n",
            "  Downloading property_cached-1.6.4-py2.py3-none-any.whl (7.8 kB)\n",
            "Requirement already satisfied: statsmodels>=0.11 in /usr/local/lib/python3.7/dist-packages (from arch) (0.12.2)\n",
            "Requirement already satisfied: numpy>=1.17 in /usr/local/lib/python3.7/dist-packages (from arch) (1.21.6)\n",
            "Requirement already satisfied: pytz>=2017.3 in /usr/local/lib/python3.7/dist-packages (from pandas>=1.0->arch) (2022.2.1)\n",
            "Requirement already satisfied: python-dateutil>=2.7.3 in /usr/local/lib/python3.7/dist-packages (from pandas>=1.0->arch) (2.8.2)\n",
            "Requirement already satisfied: six>=1.5 in /usr/local/lib/python3.7/dist-packages (from python-dateutil>=2.7.3->pandas>=1.0->arch) (1.15.0)\n",
            "Requirement already satisfied: patsy>=0.5 in /usr/local/lib/python3.7/dist-packages (from statsmodels>=0.11->arch) (0.5.2)\n",
            "Installing collected packages: property-cached, arch\n",
            "Successfully installed arch-5.3.1 property-cached-1.6.4\n"
          ]
        }
      ]
    },
    {
      "cell_type": "code",
      "source": [
        "pip install twelvedata"
      ],
      "metadata": {
        "colab": {
          "base_uri": "https://localhost:8080/"
        },
        "id": "W6nzXv76xNqh",
        "outputId": "51034b4e-1ac7-4168-ea16-5f943940c8ca"
      },
      "execution_count": 19,
      "outputs": [
        {
          "output_type": "stream",
          "name": "stdout",
          "text": [
            "Looking in indexes: https://pypi.org/simple, https://us-python.pkg.dev/colab-wheels/public/simple/\n",
            "Collecting twelvedata\n",
            "  Downloading twelvedata-1.2.9-py2.py3-none-any.whl (45 kB)\n",
            "\u001b[K     |████████████████████████████████| 45 kB 1.9 MB/s \n",
            "\u001b[?25hCollecting pytimeparse<2,>=1.1\n",
            "  Downloading pytimeparse-1.1.8-py2.py3-none-any.whl (10.0 kB)\n",
            "Requirement already satisfied: requests<3,>=2.22 in /usr/local/lib/python3.7/dist-packages (from twelvedata) (2.23.0)\n",
            "Requirement already satisfied: urllib3!=1.25.0,!=1.25.1,<1.26,>=1.21.1 in /usr/local/lib/python3.7/dist-packages (from requests<3,>=2.22->twelvedata) (1.24.3)\n",
            "Requirement already satisfied: certifi>=2017.4.17 in /usr/local/lib/python3.7/dist-packages (from requests<3,>=2.22->twelvedata) (2022.6.15)\n",
            "Requirement already satisfied: chardet<4,>=3.0.2 in /usr/local/lib/python3.7/dist-packages (from requests<3,>=2.22->twelvedata) (3.0.4)\n",
            "Requirement already satisfied: idna<3,>=2.5 in /usr/local/lib/python3.7/dist-packages (from requests<3,>=2.22->twelvedata) (2.10)\n",
            "Installing collected packages: pytimeparse, twelvedata\n",
            "Successfully installed pytimeparse-1.1.8 twelvedata-1.2.9\n"
          ]
        }
      ]
    },
    {
      "cell_type": "code",
      "source": [
        "api_key = '79b2c84f78d34c8f97efe50deaed34e2'\n",
        "\n",
        "symbol= 'BTC/USD'\n",
        "interval= '1 day'\n",
        "order= 'asc'"
      ],
      "metadata": {
        "id": "sCZw2do6BKmF"
      },
      "execution_count": 24,
      "outputs": []
    },
    {
      "cell_type": "code",
      "source": [
        "end_date= 2021,12,31\n",
        "strat_date= 2017,1,1"
      ],
      "metadata": {
        "id": "TGO7iEFJBY9w"
      },
      "execution_count": 25,
      "outputs": []
    },
    {
      "cell_type": "code",
      "source": [
        "api_url= f'https://api.twelvedata.com/time_series?apikey=79b2c84f78d34c8f97efe50deaed34e2&interval=1day&symbol=BTC/USD&start_date=2017-01-01 00:00:00&end_date=2021-12-31 00:00:00&format=JSON'"
      ],
      "metadata": {
        "id": "WO5g7j-FB3q2"
      },
      "execution_count": 38,
      "outputs": []
    },
    {
      "cell_type": "code",
      "source": [
        "data= requests.get(api_url).json()"
      ],
      "metadata": {
        "id": "0ZR3BgRlCiyX"
      },
      "execution_count": 39,
      "outputs": []
    },
    {
      "cell_type": "code",
      "source": [
        "data_final = pd.DataFrame(data['values'])"
      ],
      "metadata": {
        "id": "peb-P76iDDxb"
      },
      "execution_count": 40,
      "outputs": []
    },
    {
      "cell_type": "code",
      "source": [
        "data_final"
      ],
      "metadata": {
        "colab": {
          "base_uri": "https://localhost:8080/",
          "height": 424
        },
        "id": "i2beyRtbDyya",
        "outputId": "e108783e-2e9b-4119-95dd-a8850fad64ca"
      },
      "execution_count": 41,
      "outputs": [
        {
          "output_type": "execute_result",
          "data": {
            "text/plain": [
              "       datetime         open         high          low        close\n",
              "0    2021-12-31  47122.08984  48574.03125  45655.42969  46197.60938\n",
              "1    2021-12-30  46471.23828  47917.25000  45984.87109  47122.07812\n",
              "2    2021-12-29  47536.46875  48148.03906  46103.96875  46471.32031\n",
              "3    2021-12-28  50717.76953  50717.76953  47315.26953  47534.07031\n",
              "4    2021-12-27  50807.57812  52084.00000  50480.01172  50717.82031\n",
              "..          ...          ...          ...          ...          ...\n",
              "226  2021-05-19  42857.14844  43583.76953  30288.16016  36721.16016\n",
              "227  2021-05-18  43573.51953  45814.44922  42335.17969  42878.75000\n",
              "228  2021-05-17  46455.37109  46610.17188  42173.01172  43552.78125\n",
              "229  2021-05-16  46775.80078  49770.16016  43919.92188  46440.67188\n",
              "230  2021-05-15  47983.92188  48281.96875  46635.07031  46738.80859\n",
              "\n",
              "[231 rows x 5 columns]"
            ],
            "text/html": [
              "\n",
              "  <div id=\"df-e7d2e0d2-2f68-4a2c-ac8f-d8f156998c9d\">\n",
              "    <div class=\"colab-df-container\">\n",
              "      <div>\n",
              "<style scoped>\n",
              "    .dataframe tbody tr th:only-of-type {\n",
              "        vertical-align: middle;\n",
              "    }\n",
              "\n",
              "    .dataframe tbody tr th {\n",
              "        vertical-align: top;\n",
              "    }\n",
              "\n",
              "    .dataframe thead th {\n",
              "        text-align: right;\n",
              "    }\n",
              "</style>\n",
              "<table border=\"1\" class=\"dataframe\">\n",
              "  <thead>\n",
              "    <tr style=\"text-align: right;\">\n",
              "      <th></th>\n",
              "      <th>datetime</th>\n",
              "      <th>open</th>\n",
              "      <th>high</th>\n",
              "      <th>low</th>\n",
              "      <th>close</th>\n",
              "    </tr>\n",
              "  </thead>\n",
              "  <tbody>\n",
              "    <tr>\n",
              "      <th>0</th>\n",
              "      <td>2021-12-31</td>\n",
              "      <td>47122.08984</td>\n",
              "      <td>48574.03125</td>\n",
              "      <td>45655.42969</td>\n",
              "      <td>46197.60938</td>\n",
              "    </tr>\n",
              "    <tr>\n",
              "      <th>1</th>\n",
              "      <td>2021-12-30</td>\n",
              "      <td>46471.23828</td>\n",
              "      <td>47917.25000</td>\n",
              "      <td>45984.87109</td>\n",
              "      <td>47122.07812</td>\n",
              "    </tr>\n",
              "    <tr>\n",
              "      <th>2</th>\n",
              "      <td>2021-12-29</td>\n",
              "      <td>47536.46875</td>\n",
              "      <td>48148.03906</td>\n",
              "      <td>46103.96875</td>\n",
              "      <td>46471.32031</td>\n",
              "    </tr>\n",
              "    <tr>\n",
              "      <th>3</th>\n",
              "      <td>2021-12-28</td>\n",
              "      <td>50717.76953</td>\n",
              "      <td>50717.76953</td>\n",
              "      <td>47315.26953</td>\n",
              "      <td>47534.07031</td>\n",
              "    </tr>\n",
              "    <tr>\n",
              "      <th>4</th>\n",
              "      <td>2021-12-27</td>\n",
              "      <td>50807.57812</td>\n",
              "      <td>52084.00000</td>\n",
              "      <td>50480.01172</td>\n",
              "      <td>50717.82031</td>\n",
              "    </tr>\n",
              "    <tr>\n",
              "      <th>...</th>\n",
              "      <td>...</td>\n",
              "      <td>...</td>\n",
              "      <td>...</td>\n",
              "      <td>...</td>\n",
              "      <td>...</td>\n",
              "    </tr>\n",
              "    <tr>\n",
              "      <th>226</th>\n",
              "      <td>2021-05-19</td>\n",
              "      <td>42857.14844</td>\n",
              "      <td>43583.76953</td>\n",
              "      <td>30288.16016</td>\n",
              "      <td>36721.16016</td>\n",
              "    </tr>\n",
              "    <tr>\n",
              "      <th>227</th>\n",
              "      <td>2021-05-18</td>\n",
              "      <td>43573.51953</td>\n",
              "      <td>45814.44922</td>\n",
              "      <td>42335.17969</td>\n",
              "      <td>42878.75000</td>\n",
              "    </tr>\n",
              "    <tr>\n",
              "      <th>228</th>\n",
              "      <td>2021-05-17</td>\n",
              "      <td>46455.37109</td>\n",
              "      <td>46610.17188</td>\n",
              "      <td>42173.01172</td>\n",
              "      <td>43552.78125</td>\n",
              "    </tr>\n",
              "    <tr>\n",
              "      <th>229</th>\n",
              "      <td>2021-05-16</td>\n",
              "      <td>46775.80078</td>\n",
              "      <td>49770.16016</td>\n",
              "      <td>43919.92188</td>\n",
              "      <td>46440.67188</td>\n",
              "    </tr>\n",
              "    <tr>\n",
              "      <th>230</th>\n",
              "      <td>2021-05-15</td>\n",
              "      <td>47983.92188</td>\n",
              "      <td>48281.96875</td>\n",
              "      <td>46635.07031</td>\n",
              "      <td>46738.80859</td>\n",
              "    </tr>\n",
              "  </tbody>\n",
              "</table>\n",
              "<p>231 rows × 5 columns</p>\n",
              "</div>\n",
              "      <button class=\"colab-df-convert\" onclick=\"convertToInteractive('df-e7d2e0d2-2f68-4a2c-ac8f-d8f156998c9d')\"\n",
              "              title=\"Convert this dataframe to an interactive table.\"\n",
              "              style=\"display:none;\">\n",
              "        \n",
              "  <svg xmlns=\"http://www.w3.org/2000/svg\" height=\"24px\"viewBox=\"0 0 24 24\"\n",
              "       width=\"24px\">\n",
              "    <path d=\"M0 0h24v24H0V0z\" fill=\"none\"/>\n",
              "    <path d=\"M18.56 5.44l.94 2.06.94-2.06 2.06-.94-2.06-.94-.94-2.06-.94 2.06-2.06.94zm-11 1L8.5 8.5l.94-2.06 2.06-.94-2.06-.94L8.5 2.5l-.94 2.06-2.06.94zm10 10l.94 2.06.94-2.06 2.06-.94-2.06-.94-.94-2.06-.94 2.06-2.06.94z\"/><path d=\"M17.41 7.96l-1.37-1.37c-.4-.4-.92-.59-1.43-.59-.52 0-1.04.2-1.43.59L10.3 9.45l-7.72 7.72c-.78.78-.78 2.05 0 2.83L4 21.41c.39.39.9.59 1.41.59.51 0 1.02-.2 1.41-.59l7.78-7.78 2.81-2.81c.8-.78.8-2.07 0-2.86zM5.41 20L4 18.59l7.72-7.72 1.47 1.35L5.41 20z\"/>\n",
              "  </svg>\n",
              "      </button>\n",
              "      \n",
              "  <style>\n",
              "    .colab-df-container {\n",
              "      display:flex;\n",
              "      flex-wrap:wrap;\n",
              "      gap: 12px;\n",
              "    }\n",
              "\n",
              "    .colab-df-convert {\n",
              "      background-color: #E8F0FE;\n",
              "      border: none;\n",
              "      border-radius: 50%;\n",
              "      cursor: pointer;\n",
              "      display: none;\n",
              "      fill: #1967D2;\n",
              "      height: 32px;\n",
              "      padding: 0 0 0 0;\n",
              "      width: 32px;\n",
              "    }\n",
              "\n",
              "    .colab-df-convert:hover {\n",
              "      background-color: #E2EBFA;\n",
              "      box-shadow: 0px 1px 2px rgba(60, 64, 67, 0.3), 0px 1px 3px 1px rgba(60, 64, 67, 0.15);\n",
              "      fill: #174EA6;\n",
              "    }\n",
              "\n",
              "    [theme=dark] .colab-df-convert {\n",
              "      background-color: #3B4455;\n",
              "      fill: #D2E3FC;\n",
              "    }\n",
              "\n",
              "    [theme=dark] .colab-df-convert:hover {\n",
              "      background-color: #434B5C;\n",
              "      box-shadow: 0px 1px 3px 1px rgba(0, 0, 0, 0.15);\n",
              "      filter: drop-shadow(0px 1px 2px rgba(0, 0, 0, 0.3));\n",
              "      fill: #FFFFFF;\n",
              "    }\n",
              "  </style>\n",
              "\n",
              "      <script>\n",
              "        const buttonEl =\n",
              "          document.querySelector('#df-e7d2e0d2-2f68-4a2c-ac8f-d8f156998c9d button.colab-df-convert');\n",
              "        buttonEl.style.display =\n",
              "          google.colab.kernel.accessAllowed ? 'block' : 'none';\n",
              "\n",
              "        async function convertToInteractive(key) {\n",
              "          const element = document.querySelector('#df-e7d2e0d2-2f68-4a2c-ac8f-d8f156998c9d');\n",
              "          const dataTable =\n",
              "            await google.colab.kernel.invokeFunction('convertToInteractive',\n",
              "                                                     [key], {});\n",
              "          if (!dataTable) return;\n",
              "\n",
              "          const docLinkHtml = 'Like what you see? Visit the ' +\n",
              "            '<a target=\"_blank\" href=https://colab.research.google.com/notebooks/data_table.ipynb>data table notebook</a>'\n",
              "            + ' to learn more about interactive tables.';\n",
              "          element.innerHTML = '';\n",
              "          dataTable['output_type'] = 'display_data';\n",
              "          await google.colab.output.renderOutput(dataTable, element);\n",
              "          const docLink = document.createElement('div');\n",
              "          docLink.innerHTML = docLinkHtml;\n",
              "          element.appendChild(docLink);\n",
              "        }\n",
              "      </script>\n",
              "    </div>\n",
              "  </div>\n",
              "  "
            ]
          },
          "metadata": {},
          "execution_count": 41
        }
      ]
    },
    {
      "cell_type": "code",
      "source": [
        "data_final['close']= pd.to_numeric(data_final['close'], errors= 'coerce')\n",
        "data_final.set_index('datetime', inplace= True)"
      ],
      "metadata": {
        "id": "cja26fzzEM6i"
      },
      "execution_count": 42,
      "outputs": []
    },
    {
      "cell_type": "code",
      "source": [
        "import datetime as dt\n",
        "data = data_final\n",
        "market = data_final[\"close\"]\n",
        "returns = 100 * market.pct_change().dropna()\n",
        "ax = returns.plot()\n",
        "xlim = ax.set_xlim(returns.index.min(), returns.index.max())"
      ],
      "metadata": {
        "colab": {
          "base_uri": "https://localhost:8080/",
          "height": 396
        },
        "id": "gBpW1ojjyYkJ",
        "outputId": "60096636-1564-40bc-e50f-c5e3a4e5f39f"
      },
      "execution_count": 43,
      "outputs": [
        {
          "output_type": "display_data",
          "data": {
            "text/plain": [
              "<Figure size 1152x432 with 1 Axes>"
            ],
            "image/png": "[encoded data removed]"
          },
          "metadata": {}
        }
      ]
    },
    {
      "cell_type": "code",
      "source": [
        "#GARCH (with a Constant Mean)\n",
        "from arch import arch_model\n",
        "\n",
        "am = arch_model(returns)\n",
        "res = am.fit(update_freq=5)\n",
        "print(res.summary())"
      ],
      "metadata": {
        "colab": {
          "base_uri": "https://localhost:8080/"
        },
        "id": "mGuPTxFL0ERg",
        "outputId": "b6f2b59e-4896-479f-f6d9-71c89bb13817"
      },
      "execution_count": 44,
      "outputs": [
        {
          "output_type": "stream",
          "name": "stdout",
          "text": [
            "Iteration:      5,   Func. Count:     32,   Neg. LLF: 642.0434700123897\n",
            "Iteration:     10,   Func. Count:     57,   Neg. LLF: 658.445952482085\n",
            "Iteration:     15,   Func. Count:     85,   Neg. LLF: 642.8151450832023\n",
            "Optimization terminated successfully    (Exit mode 0)\n",
            "            Current function value: 641.1925842016581\n",
            "            Iterations: 16\n",
            "            Function evaluations: 89\n",
            "            Gradient evaluations: 15\n",
            "                     Constant Mean - GARCH Model Results                      \n",
            "==============================================================================\n",
            "Dep. Variable:                  close   R-squared:                       0.000\n",
            "Mean Model:             Constant Mean   Adj. R-squared:                  0.000\n",
            "Vol Model:                      GARCH   Log-Likelihood:               -641.193\n",
            "Distribution:                  Normal   AIC:                           1290.39\n",
            "Method:            Maximum Likelihood   BIC:                           1304.14\n",
            "                                        No. Observations:                  230\n",
            "Date:                Thu, Sep 29 2022   Df Residuals:                      229\n",
            "Time:                        11:47:41   Df Model:                            1\n",
            "                               Mean Model                               \n",
            "========================================================================\n",
            "                 coef    std err          t      P>|t|  95.0% Conf. Int.\n",
            "------------------------------------------------------------------------\n",
            "mu             0.0977      0.255      0.383      0.702 [ -0.403,  0.598]\n",
            "                               Volatility Model                              \n",
            "=============================================================================\n",
            "                 coef    std err          t      P>|t|       95.0% Conf. Int.\n",
            "-----------------------------------------------------------------------------\n",
            "omega          0.0560      0.140      0.401      0.688      [ -0.218,  0.330]\n",
            "alpha[1]   1.0789e-07  1.237e-02  8.720e-06      1.000 [-2.425e-02,2.425e-02]\n",
            "beta[1]        1.0000  7.105e-03    140.744      0.000      [  0.986,  1.014]\n",
            "=============================================================================\n",
            "\n",
            "Covariance estimator: robust\n"
          ]
        }
      ]
    },
    {
      "cell_type": "code",
      "source": [
        "# can be used to quickly visualize the standardized residuals and conditional volatility\n",
        "fig = res.plot(annualize=\"D\")"
      ],
      "metadata": {
        "colab": {
          "base_uri": "https://localhost:8080/",
          "height": 398
        },
        "id": "BRpSejA9EwFw",
        "outputId": "f38b3009-f77f-4955-de87-c047e63e83e6"
      },
      "execution_count": 45,
      "outputs": [
        {
          "output_type": "display_data",
          "data": {
            "text/plain": [
              "<Figure size 1152x432 with 2 Axes>"
            ],
            "image/png": "[encoded data removed]"
          },
          "metadata": {}
        }
      ]
    },
    {
      "cell_type": "code",
      "source": [
        "#GJR-GARCH\n",
        "am = arch_model(returns, p=1, o=1, q=1)\n",
        "res = am.fit(update_freq=5, disp=\"off\")\n",
        "print(res.summary())"
      ],
      "metadata": {
        "colab": {
          "base_uri": "https://localhost:8080/"
        },
        "id": "Gko6RD-vE_sL",
        "outputId": "a319acbf-ac85-4969-850c-72224538dbd4"
      },
      "execution_count": 46,
      "outputs": [
        {
          "output_type": "stream",
          "name": "stdout",
          "text": [
            "                   Constant Mean - GJR-GARCH Model Results                    \n",
            "==============================================================================\n",
            "Dep. Variable:                  close   R-squared:                       0.000\n",
            "Mean Model:             Constant Mean   Adj. R-squared:                  0.000\n",
            "Vol Model:                  GJR-GARCH   Log-Likelihood:               -640.610\n",
            "Distribution:                  Normal   AIC:                           1291.22\n",
            "Method:            Maximum Likelihood   BIC:                           1308.41\n",
            "                                        No. Observations:                  230\n",
            "Date:                Thu, Sep 29 2022   Df Residuals:                      229\n",
            "Time:                        11:49:28   Df Model:                            1\n",
            "                               Mean Model                               \n",
            "========================================================================\n",
            "                 coef    std err          t      P>|t|  95.0% Conf. Int.\n",
            "------------------------------------------------------------------------\n",
            "mu             0.0613      0.258      0.238      0.812 [ -0.443,  0.566]\n",
            "                               Volatility Model                              \n",
            "=============================================================================\n",
            "                 coef    std err          t      P>|t|       95.0% Conf. Int.\n",
            "-----------------------------------------------------------------------------\n",
            "omega          0.0863      0.198      0.437      0.662      [ -0.301,  0.474]\n",
            "alpha[1]   1.5427e-13  1.943e-02  7.939e-12      1.000 [-3.809e-02,3.809e-02]\n",
            "gamma[1]       0.0330  3.379e-02      0.978      0.328 [-3.318e-02,9.927e-02]\n",
            "beta[1]        0.9835  1.629e-02     60.368      0.000      [  0.952,  1.015]\n",
            "=============================================================================\n",
            "\n",
            "Covariance estimator: robust\n"
          ]
        }
      ]
    },
    {
      "cell_type": "code",
      "source": [
        "#TARCH/ZARCH\n",
        "am = arch_model(returns, p=1, o=1, q=1, power=1.0)\n",
        "res = am.fit(update_freq=5)\n",
        "print(res.summary())"
      ],
      "metadata": {
        "colab": {
          "base_uri": "https://localhost:8080/"
        },
        "id": "xDkx4wQ3FKbv",
        "outputId": "861fcf4c-02a4-4b0b-e098-d789c774f1a0"
      },
      "execution_count": 47,
      "outputs": [
        {
          "output_type": "stream",
          "name": "stdout",
          "text": [
            "Iteration:      5,   Func. Count:     40,   Neg. LLF: 649.3521934819462\n",
            "Iteration:     10,   Func. Count:     74,   Neg. LLF: 641.5567001653776\n",
            "Iteration:     15,   Func. Count:    103,   Neg. LLF: 641.5439752310566\n",
            "Optimization terminated successfully    (Exit mode 0)\n",
            "            Current function value: 641.5439752310178\n",
            "            Iterations: 15\n",
            "            Function evaluations: 103\n",
            "            Gradient evaluations: 15\n",
            "                  Constant Mean - TARCH/ZARCH Model Results                   \n",
            "==============================================================================\n",
            "Dep. Variable:                  close   R-squared:                       0.000\n",
            "Mean Model:             Constant Mean   Adj. R-squared:                  0.000\n",
            "Vol Model:                TARCH/ZARCH   Log-Likelihood:               -641.544\n",
            "Distribution:                  Normal   AIC:                           1293.09\n",
            "Method:            Maximum Likelihood   BIC:                           1310.28\n",
            "                                        No. Observations:                  230\n",
            "Date:                Thu, Sep 29 2022   Df Residuals:                      229\n",
            "Time:                        11:49:56   Df Model:                            1\n",
            "                               Mean Model                               \n",
            "========================================================================\n",
            "                 coef    std err          t      P>|t|  95.0% Conf. Int.\n",
            "------------------------------------------------------------------------\n",
            "mu             0.0421      0.250      0.169      0.866 [ -0.447,  0.531]\n",
            "                              Volatility Model                             \n",
            "===========================================================================\n",
            "                 coef    std err          t      P>|t|     95.0% Conf. Int.\n",
            "---------------------------------------------------------------------------\n",
            "omega          0.1142      0.150      0.763      0.446    [ -0.179,  0.408]\n",
            "alpha[1]       0.0418  3.553e-02      1.177      0.239 [-2.782e-02,  0.111]\n",
            "gamma[1]       0.0265  6.494e-02      0.408      0.683    [ -0.101,  0.154]\n",
            "beta[1]        0.9329  4.885e-02     19.096  2.704e-81    [  0.837,  1.029]\n",
            "===========================================================================\n",
            "\n",
            "Covariance estimator: robust\n"
          ]
        }
      ]
    },
    {
      "cell_type": "code",
      "source": [
        "# Student’s T Errors\n",
        "am = arch_model(returns, p=1, o=1, q=1, power=1.0, dist=\"StudentsT\")\n",
        "res = am.fit(update_freq=5)\n",
        "print(res.summary())"
      ],
      "metadata": {
        "colab": {
          "base_uri": "https://localhost:8080/"
        },
        "id": "JVgGd_31FQKb",
        "outputId": "1723724e-e936-4adf-e5df-f2ae77c498da"
      },
      "execution_count": 48,
      "outputs": [
        {
          "output_type": "stream",
          "name": "stdout",
          "text": [
            "Iteration:      5,   Func. Count:     45,   Neg. LLF: 641.7938367600327\n",
            "Iteration:     10,   Func. Count:     85,   Neg. LLF: 639.0477308600134\n",
            "Iteration:     15,   Func. Count:    122,   Neg. LLF: 638.8208088526792\n",
            "Optimization terminated successfully    (Exit mode 0)\n",
            "            Current function value: 638.8195960637984\n",
            "            Iterations: 19\n",
            "            Function evaluations: 150\n",
            "            Gradient evaluations: 19\n",
            "                     Constant Mean - TARCH/ZARCH Model Results                      \n",
            "====================================================================================\n",
            "Dep. Variable:                        close   R-squared:                       0.000\n",
            "Mean Model:                   Constant Mean   Adj. R-squared:                  0.000\n",
            "Vol Model:                      TARCH/ZARCH   Log-Likelihood:               -638.820\n",
            "Distribution:      Standardized Student's t   AIC:                           1289.64\n",
            "Method:                  Maximum Likelihood   BIC:                           1310.27\n",
            "                                              No. Observations:                  230\n",
            "Date:                      Thu, Sep 29 2022   Df Residuals:                      229\n",
            "Time:                              11:50:29   Df Model:                            1\n",
            "                               Mean Model                               \n",
            "========================================================================\n",
            "                 coef    std err          t      P>|t|  95.0% Conf. Int.\n",
            "------------------------------------------------------------------------\n",
            "mu            -0.0813      0.238     -0.341      0.733 [ -0.548,  0.386]\n",
            "                               Volatility Model                              \n",
            "=============================================================================\n",
            "                 coef    std err          t      P>|t|       95.0% Conf. Int.\n",
            "-----------------------------------------------------------------------------\n",
            "omega          0.1240      0.280      0.443      0.658      [ -0.425,  0.673]\n",
            "alpha[1]       0.0243  3.716e-02      0.655      0.513 [-4.851e-02,9.716e-02]\n",
            "gamma[1]       0.0349  9.918e-02      0.351      0.725      [ -0.160,  0.229]\n",
            "beta[1]        0.9413  8.905e-02     10.571  4.056e-26      [  0.767,  1.116]\n",
            "                              Distribution                              \n",
            "========================================================================\n",
            "                 coef    std err          t      P>|t|  95.0% Conf. Int.\n",
            "------------------------------------------------------------------------\n",
            "nu             6.6800      2.696      2.478  1.321e-02 [  1.397, 11.963]\n",
            "========================================================================\n",
            "\n",
            "Covariance estimator: robust\n"
          ]
        }
      ]
    },
    {
      "cell_type": "code",
      "source": [
        "# Fixing Parameters\n",
        "fixed_res = am.fix([0.0235, 0.01, 0.06, 0.0, 0.9382, 8.0])\n",
        "print(fixed_res.summary())"
      ],
      "metadata": {
        "colab": {
          "base_uri": "https://localhost:8080/"
        },
        "id": "B1f2R8rWFfIB",
        "outputId": "15c64dce-b4f6-472b-a7b4-e1c8cd12e11e"
      },
      "execution_count": 49,
      "outputs": [
        {
          "output_type": "stream",
          "name": "stdout",
          "text": [
            "                      Constant Mean - TARCH/ZARCH Model Results                      \n",
            "=====================================================================================\n",
            "Dep. Variable:                         close   R-squared:                          --\n",
            "Mean Model:                    Constant Mean   Adj. R-squared:                     --\n",
            "Vol Model:                       TARCH/ZARCH   Log-Likelihood:               -660.127\n",
            "Distribution:       Standardized Student's t   AIC:                           1332.25\n",
            "Method:            User-specified Parameters   BIC:                           1352.88\n",
            "                                               No. Observations:                  230\n",
            "Date:                       Thu, Sep 29 2022                                         \n",
            "Time:                               11:51:34                                         \n",
            "      Mean Model     \n",
            "=====================\n",
            "                 coef\n",
            "---------------------\n",
            "mu             0.0235\n",
            "   Volatility Model  \n",
            "=====================\n",
            "                 coef\n",
            "---------------------\n",
            "omega          0.0100\n",
            "alpha[1]       0.0600\n",
            "gamma[1]       0.0000\n",
            "beta[1]        0.9382\n",
            "     Distribution    \n",
            "=====================\n",
            "                 coef\n",
            "---------------------\n",
            "nu             8.0000\n",
            "=====================\n",
            "\n",
            "Results generated with user-specified parameters.\n",
            "Std. errors not available when the model is not estimated, \n"
          ]
        }
      ]
    },
    {
      "cell_type": "code",
      "source": [
        "import pandas as pd\n",
        "\n",
        "df = pd.concat([res.conditional_volatility, fixed_res.conditional_volatility], 1)\n",
        "df.columns = [\"Estimated\", \"Fixed\"]\n",
        "subplot = df.plot()\n",
        "subplot.set_xlim(xlim)"
      ],
      "metadata": {
        "colab": {
          "base_uri": "https://localhost:8080/",
          "height": 413
        },
        "id": "y_QeIPOkFo-4",
        "outputId": "9c187649-5c2c-4d10-a8ad-20bdc30e7cff"
      },
      "execution_count": 50,
      "outputs": [
        {
          "output_type": "execute_result",
          "data": {
            "text/plain": [
              "(0.0, 1.0)"
            ]
          },
          "metadata": {},
          "execution_count": 50
        },
        {
          "output_type": "display_data",
          "data": {
            "text/plain": [
              "<Figure size 1152x432 with 1 Axes>"
            ],
            "image/png": "[encoded data removed]"
          },
          "metadata": {}
        }
      ]
    }
  ]
}